{
 "cells": [
  {
   "cell_type": "code",
   "execution_count": 19,
   "metadata": {},
   "outputs": [],
   "source": [
    "import pandas as pd\n",
    "import matplotlib.pyplot as plt"
   ]
  },
  {
   "cell_type": "code",
   "execution_count": 20,
   "metadata": {},
   "outputs": [],
   "source": [
    "low_memory=False"
   ]
  },
  {
   "cell_type": "code",
   "execution_count": 21,
   "metadata": {},
   "outputs": [],
   "source": [
    "#Abrindo os arquivos CSV e produzindo os dataframes.\n",
    "df_2013 = pd.read_csv (\"DM_ALUNO_2013.CSV\", delimiter = '|', encoding = \"iso-8859-1\", usecols = [\"IN_DEF_FISICA\"])\n",
    "df_2014 = pd.read_csv (\"DM_ALUNO_2014.CSV\", delimiter = '|', encoding = \"iso-8859-1\", usecols = [\"IN_DEF_FISICA\"])\n",
    "df_2015 = pd.read_csv (\"DM_ALUNO_2015.CSV\", delimiter = '|', encoding = \"iso-8859-1\", usecols = [\"IN_DEF_FISICA\"])\n",
    "df_2016 = pd.read_csv (\"DM_ALUNO_2016.CSV\", delimiter = '|', encoding = \"iso-8859-1\", usecols = [\"IN_DEF_FISICA\"])\n",
    "df_2017 = pd.read_csv (\"DM_ALUNO_2017.CSV\", delimiter = '|', encoding = \"iso-8859-1\", usecols = [\"IN_DEFICIENCIA_FISICA\"])"
   ]
  },
  {
   "cell_type": "code",
   "execution_count": 23,
   "metadata": {},
   "outputs": [],
   "source": [
    "#Declarando váriaveis para produzir o gráfico\n",
    "def_2013 = (df_2013.query(\"IN_DEF_FISICA == 1\")[\"IN_DEF_FISICA\"].count())\n",
    "def_2014 = (df_2014.query(\"IN_DEF_FISICA == 1\")[\"IN_DEF_FISICA\"].count())\n",
    "def_2015 = (df_2015.query(\"IN_DEF_FISICA == 1\")[\"IN_DEF_FISICA\"].count())\n",
    "def_2016 = (df_2016.query(\"IN_DEF_FISICA == 1\")[\"IN_DEF_FISICA\"].count())\n",
    "def_2017 = (df_2017.query(\"IN_DEFICIENCIA_FISICA == 1\")[\"IN_DEFICIENCIA_FISICA\"].count())"
   ]
  },
  {
   "cell_type": "code",
   "execution_count": 24,
   "metadata": {},
   "outputs": [
    {
     "name": "stdout",
     "output_type": "stream",
     "text": [
      "O número de deficientes fisicos nas faculdades em 2013 era de 10354 .\n",
      "O número de deficientes fisicos nas faculdades em 2014 era de 14216 .\n",
      "O número de deficientes fisicos nas faculdades em 2015 era de 18210 .\n",
      "O número de deficientes fisicos nas faculdades em 2016 era de 18319 .\n",
      "O número de deficientes fisicos nas faculdades em 2017 era de 20146 .\n"
     ]
    }
   ],
   "source": [
    "#Imprimindo o número de deficientes fisicos nas faculdades \n",
    "print(f\"O número de deficientes fisicos nas faculdades em 2013 era de {def_2013} .\")\n",
    "print(f\"O número de deficientes fisicos nas faculdades em 2014 era de {def_2014} .\")\n",
    "print(f\"O número de deficientes fisicos nas faculdades em 2015 era de {def_2015} .\")\n",
    "print(f\"O número de deficientes fisicos nas faculdades em 2016 era de {def_2016} .\")\n",
    "print(f\"O número de deficientes fisicos nas faculdades em 2017 era de {def_2017} .\")"
   ]
  },
  {
   "cell_type": "code",
   "execution_count": 29,
   "metadata": {},
   "outputs": [
    {
     "data": {
      "image/png": "[encoded data removed]",
      "text/plain": [
       "<Figure size 432x288 with 1 Axes>"
      ]
     },
     "metadata": {
      "needs_background": "light"
     },
     "output_type": "display_data"
    }
   ],
   "source": [
    "x = [2013, 2014, 2015, 2016, 2017]\n",
    "y = [(def_2013), (def_2014), (def_2015), (def_2016), (def_2017)]\n",
    "\n",
    "plt.title('Deficientes Fisicos nas Faculdades')\n",
    "plt.xlabel('ANO')\n",
    "plt.ylabel('Deficientes Fisicos')\n",
    "plt.bar(x, y)\n",
    "plt.show()"
   ]
  },
  {
   "cell_type": "code",
   "execution_count": null,
   "metadata": {},
   "outputs": [],
   "source": []
  }
 ],
 "metadata": {
  "kernelspec": {
   "display_name": "Python 3",
   "language": "python",
   "name": "python3"
  },
  "language_info": {
   "codemirror_mode": {
    "name": "ipython",
    "version": 3
   },
   "file_extension": ".py",
   "mimetype": "text/x-python",
   "name": "python",
   "nbconvert_exporter": "python",
   "pygments_lexer": "ipython3",
   "version": "3.7.4"
  }
 },
 "nbformat": 4,
 "nbformat_minor": 2
}
